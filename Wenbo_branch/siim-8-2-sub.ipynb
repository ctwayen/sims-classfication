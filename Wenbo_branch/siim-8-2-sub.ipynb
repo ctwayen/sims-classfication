{
 "cells": [
  {
   "cell_type": "code",
   "execution_count": 1,
   "id": "a6595e8f",
   "metadata": {
    "_cell_guid": "b1076dfc-b9ad-4769-8c92-a6c4dae69d19",
    "_uuid": "8f2839f25d086af736a60e9eeb907d3b93b6e0e5",
    "execution": {
     "iopub.execute_input": "2021-08-03T03:19:06.490815Z",
     "iopub.status.busy": "2021-08-03T03:19:06.489722Z",
     "iopub.status.idle": "2021-08-03T03:19:06.492628Z",
     "shell.execute_reply": "2021-08-03T03:19:06.492003Z",
     "shell.execute_reply.started": "2021-08-02T05:50:51.612629Z"
    },
    "papermill": {
     "duration": 0.02783,
     "end_time": "2021-08-03T03:19:06.492795",
     "exception": false,
     "start_time": "2021-08-03T03:19:06.464965",
     "status": "completed"
    },
    "tags": []
   },
   "outputs": [],
   "source": [
    "# This Python 3 environment comes with many helpful analytics libraries installed\n",
    "# It is defined by the kaggle/python Docker image: https://github.com/kaggle/docker-python\n",
    "# For example, here's several helpful packages to load\n",
    "\n",
    "import numpy as np # linear algebra\n",
    "import pandas as pd # data processing, CSV file I/O (e.g. pd.read_csv)\n",
    "\n",
    "# Input data files are available in the read-only \"../input/\" directory\n",
    "# For example, running this (by clicking run or pressing Shift+Enter) will list all files under the input directory\n",
    "\n",
    "\n",
    "# You can write up to 20GB to the current directory (/kaggle/working/) that gets preserved as output when you create a version using \"Save & Run All\" \n",
    "# You can also write temporary files to /kaggle/temp/, but they won't be saved outside of the current session"
   ]
  },
  {
   "cell_type": "code",
   "execution_count": 2,
   "id": "21e6242b",
   "metadata": {
    "execution": {
     "iopub.execute_input": "2021-08-03T03:19:06.520319Z",
     "iopub.status.busy": "2021-08-03T03:19:06.519621Z",
     "iopub.status.idle": "2021-08-03T03:19:06.623558Z",
     "shell.execute_reply": "2021-08-03T03:19:06.622845Z",
     "shell.execute_reply.started": "2021-08-02T05:50:51.628277Z"
    },
    "papermill": {
     "duration": 0.119651,
     "end_time": "2021-08-03T03:19:06.623739",
     "exception": false,
     "start_time": "2021-08-03T03:19:06.504088",
     "status": "completed"
    },
    "tags": []
   },
   "outputs": [],
   "source": [
    "sample = pd.read_csv('../input/siim-covid19-detection/sample_submission.csv')"
   ]
  },
  {
   "cell_type": "code",
   "execution_count": 3,
   "id": "001e5ccc",
   "metadata": {
    "execution": {
     "iopub.execute_input": "2021-08-03T03:19:06.659338Z",
     "iopub.status.busy": "2021-08-03T03:19:06.658616Z",
     "iopub.status.idle": "2021-08-03T03:19:06.678014Z",
     "shell.execute_reply": "2021-08-03T03:19:06.677499Z",
     "shell.execute_reply.started": "2021-08-02T05:50:51.7599Z"
    },
    "papermill": {
     "duration": 0.043079,
     "end_time": "2021-08-03T03:19:06.678163",
     "exception": false,
     "start_time": "2021-08-03T03:19:06.635084",
     "status": "completed"
    },
    "tags": []
   },
   "outputs": [
    {
     "data": {
      "text/html": [
       "<div>\n",
       "<style scoped>\n",
       "    .dataframe tbody tr th:only-of-type {\n",
       "        vertical-align: middle;\n",
       "    }\n",
       "\n",
       "    .dataframe tbody tr th {\n",
       "        vertical-align: top;\n",
       "    }\n",
       "\n",
       "    .dataframe thead th {\n",
       "        text-align: right;\n",
       "    }\n",
       "</style>\n",
       "<table border=\"1\" class=\"dataframe\">\n",
       "  <thead>\n",
       "    <tr style=\"text-align: right;\">\n",
       "      <th></th>\n",
       "      <th>id</th>\n",
       "      <th>PredictionString</th>\n",
       "    </tr>\n",
       "  </thead>\n",
       "  <tbody>\n",
       "    <tr>\n",
       "      <th>0</th>\n",
       "      <td>00188a671292_study</td>\n",
       "      <td>negative 1 0 0 1 1</td>\n",
       "    </tr>\n",
       "    <tr>\n",
       "      <th>1</th>\n",
       "      <td>004bd59708be_study</td>\n",
       "      <td>negative 1 0 0 1 1</td>\n",
       "    </tr>\n",
       "    <tr>\n",
       "      <th>2</th>\n",
       "      <td>00508faccd39_study</td>\n",
       "      <td>negative 1 0 0 1 1</td>\n",
       "    </tr>\n",
       "    <tr>\n",
       "      <th>3</th>\n",
       "      <td>006486aa80b2_study</td>\n",
       "      <td>negative 1 0 0 1 1</td>\n",
       "    </tr>\n",
       "    <tr>\n",
       "      <th>4</th>\n",
       "      <td>00655178fdfc_study</td>\n",
       "      <td>negative 1 0 0 1 1</td>\n",
       "    </tr>\n",
       "    <tr>\n",
       "      <th>...</th>\n",
       "      <td>...</td>\n",
       "      <td>...</td>\n",
       "    </tr>\n",
       "    <tr>\n",
       "      <th>2472</th>\n",
       "      <td>46719b856de1_image</td>\n",
       "      <td>none 1 0 0 1 1</td>\n",
       "    </tr>\n",
       "    <tr>\n",
       "      <th>2473</th>\n",
       "      <td>31c07523a69a_image</td>\n",
       "      <td>none 1 0 0 1 1</td>\n",
       "    </tr>\n",
       "    <tr>\n",
       "      <th>2474</th>\n",
       "      <td>f77d7d1aebab_image</td>\n",
       "      <td>none 1 0 0 1 1</td>\n",
       "    </tr>\n",
       "    <tr>\n",
       "      <th>2475</th>\n",
       "      <td>ccc5b63ca96d_image</td>\n",
       "      <td>none 1 0 0 1 1</td>\n",
       "    </tr>\n",
       "    <tr>\n",
       "      <th>2476</th>\n",
       "      <td>5e8ac1fe2b82_image</td>\n",
       "      <td>none 1 0 0 1 1</td>\n",
       "    </tr>\n",
       "  </tbody>\n",
       "</table>\n",
       "<p>2477 rows × 2 columns</p>\n",
       "</div>"
      ],
      "text/plain": [
       "                      id    PredictionString\n",
       "0     00188a671292_study  negative 1 0 0 1 1\n",
       "1     004bd59708be_study  negative 1 0 0 1 1\n",
       "2     00508faccd39_study  negative 1 0 0 1 1\n",
       "3     006486aa80b2_study  negative 1 0 0 1 1\n",
       "4     00655178fdfc_study  negative 1 0 0 1 1\n",
       "...                  ...                 ...\n",
       "2472  46719b856de1_image      none 1 0 0 1 1\n",
       "2473  31c07523a69a_image      none 1 0 0 1 1\n",
       "2474  f77d7d1aebab_image      none 1 0 0 1 1\n",
       "2475  ccc5b63ca96d_image      none 1 0 0 1 1\n",
       "2476  5e8ac1fe2b82_image      none 1 0 0 1 1\n",
       "\n",
       "[2477 rows x 2 columns]"
      ]
     },
     "execution_count": 3,
     "metadata": {},
     "output_type": "execute_result"
    }
   ],
   "source": [
    "sample"
   ]
  },
  {
   "cell_type": "code",
   "execution_count": 4,
   "id": "8c8016cf",
   "metadata": {
    "execution": {
     "iopub.execute_input": "2021-08-03T03:19:06.706545Z",
     "iopub.status.busy": "2021-08-03T03:19:06.705874Z",
     "iopub.status.idle": "2021-08-03T03:19:06.738372Z",
     "shell.execute_reply": "2021-08-03T03:19:06.737819Z",
     "shell.execute_reply.started": "2021-08-02T05:50:51.793354Z"
    },
    "papermill": {
     "duration": 0.048494,
     "end_time": "2021-08-03T03:19:06.738570",
     "exception": false,
     "start_time": "2021-08-03T03:19:06.690076",
     "status": "completed"
    },
    "tags": []
   },
   "outputs": [],
   "source": [
    "df = pd.read_csv('../input/siim-82/siim_wbf_sub_v3.csv')"
   ]
  },
  {
   "cell_type": "code",
   "execution_count": 5,
   "id": "f1fc5ea0",
   "metadata": {
    "execution": {
     "iopub.execute_input": "2021-08-03T03:19:06.772264Z",
     "iopub.status.busy": "2021-08-03T03:19:06.771150Z",
     "iopub.status.idle": "2021-08-03T03:19:06.784748Z",
     "shell.execute_reply": "2021-08-03T03:19:06.783607Z",
     "shell.execute_reply.started": "2021-08-02T05:50:51.870888Z"
    },
    "papermill": {
     "duration": 0.035217,
     "end_time": "2021-08-03T03:19:06.784971",
     "exception": false,
     "start_time": "2021-08-03T03:19:06.749754",
     "status": "completed"
    },
    "tags": []
   },
   "outputs": [],
   "source": [
    "sub = sample.merge(df, on = 'id', how = 'left')"
   ]
  },
  {
   "cell_type": "code",
   "execution_count": 6,
   "id": "ad365551",
   "metadata": {
    "execution": {
     "iopub.execute_input": "2021-08-03T03:19:06.824487Z",
     "iopub.status.busy": "2021-08-03T03:19:06.823811Z",
     "iopub.status.idle": "2021-08-03T03:19:06.842183Z",
     "shell.execute_reply": "2021-08-03T03:19:06.843004Z",
     "shell.execute_reply.started": "2021-08-02T05:50:51.892717Z"
    },
    "papermill": {
     "duration": 0.039008,
     "end_time": "2021-08-03T03:19:06.843276",
     "exception": false,
     "start_time": "2021-08-03T03:19:06.804268",
     "status": "completed"
    },
    "tags": []
   },
   "outputs": [
    {
     "data": {
      "text/html": [
       "<div>\n",
       "<style scoped>\n",
       "    .dataframe tbody tr th:only-of-type {\n",
       "        vertical-align: middle;\n",
       "    }\n",
       "\n",
       "    .dataframe tbody tr th {\n",
       "        vertical-align: top;\n",
       "    }\n",
       "\n",
       "    .dataframe thead th {\n",
       "        text-align: right;\n",
       "    }\n",
       "</style>\n",
       "<table border=\"1\" class=\"dataframe\">\n",
       "  <thead>\n",
       "    <tr style=\"text-align: right;\">\n",
       "      <th></th>\n",
       "      <th>id</th>\n",
       "      <th>PredictionString_x</th>\n",
       "      <th>PredictionString_y</th>\n",
       "    </tr>\n",
       "  </thead>\n",
       "  <tbody>\n",
       "    <tr>\n",
       "      <th>0</th>\n",
       "      <td>00188a671292_study</td>\n",
       "      <td>negative 1 0 0 1 1</td>\n",
       "      <td>negative 0.8558322191238403 0 0 1 1 typical 0....</td>\n",
       "    </tr>\n",
       "    <tr>\n",
       "      <th>1</th>\n",
       "      <td>004bd59708be_study</td>\n",
       "      <td>negative 1 0 0 1 1</td>\n",
       "      <td>negative 0.0003815750533249229 0 0 1 1 typical...</td>\n",
       "    </tr>\n",
       "    <tr>\n",
       "      <th>2</th>\n",
       "      <td>00508faccd39_study</td>\n",
       "      <td>negative 1 0 0 1 1</td>\n",
       "      <td>negative 0.7992270588874817 0 0 1 1 typical 0....</td>\n",
       "    </tr>\n",
       "    <tr>\n",
       "      <th>3</th>\n",
       "      <td>006486aa80b2_study</td>\n",
       "      <td>negative 1 0 0 1 1</td>\n",
       "      <td>negative 0.21704010665416718 0 0 1 1 typical 0...</td>\n",
       "    </tr>\n",
       "    <tr>\n",
       "      <th>4</th>\n",
       "      <td>00655178fdfc_study</td>\n",
       "      <td>negative 1 0 0 1 1</td>\n",
       "      <td>negative 0.5215725898742676 0 0 1 1 typical 0....</td>\n",
       "    </tr>\n",
       "    <tr>\n",
       "      <th>...</th>\n",
       "      <td>...</td>\n",
       "      <td>...</td>\n",
       "      <td>...</td>\n",
       "    </tr>\n",
       "    <tr>\n",
       "      <th>2472</th>\n",
       "      <td>46719b856de1_image</td>\n",
       "      <td>none 1 0 0 1 1</td>\n",
       "      <td>opacity 0.12999999523162842 467 631 934 1607 o...</td>\n",
       "    </tr>\n",
       "    <tr>\n",
       "      <th>2473</th>\n",
       "      <td>31c07523a69a_image</td>\n",
       "      <td>none 1 0 0 1 1</td>\n",
       "      <td>opacity 0.44 868 1134 1872 2611 opacity 0.43 2...</td>\n",
       "    </tr>\n",
       "    <tr>\n",
       "      <th>2474</th>\n",
       "      <td>f77d7d1aebab_image</td>\n",
       "      <td>none 1 0 0 1 1</td>\n",
       "      <td>opacity 0.2 2231 828 2764 1825 opacity 0.19 31...</td>\n",
       "    </tr>\n",
       "    <tr>\n",
       "      <th>2475</th>\n",
       "      <td>ccc5b63ca96d_image</td>\n",
       "      <td>none 1 0 0 1 1</td>\n",
       "      <td>opacity 0.47999998927116394 536 697 1482 2400 ...</td>\n",
       "    </tr>\n",
       "    <tr>\n",
       "      <th>2476</th>\n",
       "      <td>5e8ac1fe2b82_image</td>\n",
       "      <td>none 1 0 0 1 1</td>\n",
       "      <td>opacity 0.5299999713897705 516 725 1456 2370 o...</td>\n",
       "    </tr>\n",
       "  </tbody>\n",
       "</table>\n",
       "<p>2477 rows × 3 columns</p>\n",
       "</div>"
      ],
      "text/plain": [
       "                      id  PredictionString_x  \\\n",
       "0     00188a671292_study  negative 1 0 0 1 1   \n",
       "1     004bd59708be_study  negative 1 0 0 1 1   \n",
       "2     00508faccd39_study  negative 1 0 0 1 1   \n",
       "3     006486aa80b2_study  negative 1 0 0 1 1   \n",
       "4     00655178fdfc_study  negative 1 0 0 1 1   \n",
       "...                  ...                 ...   \n",
       "2472  46719b856de1_image      none 1 0 0 1 1   \n",
       "2473  31c07523a69a_image      none 1 0 0 1 1   \n",
       "2474  f77d7d1aebab_image      none 1 0 0 1 1   \n",
       "2475  ccc5b63ca96d_image      none 1 0 0 1 1   \n",
       "2476  5e8ac1fe2b82_image      none 1 0 0 1 1   \n",
       "\n",
       "                                     PredictionString_y  \n",
       "0     negative 0.8558322191238403 0 0 1 1 typical 0....  \n",
       "1     negative 0.0003815750533249229 0 0 1 1 typical...  \n",
       "2     negative 0.7992270588874817 0 0 1 1 typical 0....  \n",
       "3     negative 0.21704010665416718 0 0 1 1 typical 0...  \n",
       "4     negative 0.5215725898742676 0 0 1 1 typical 0....  \n",
       "...                                                 ...  \n",
       "2472  opacity 0.12999999523162842 467 631 934 1607 o...  \n",
       "2473  opacity 0.44 868 1134 1872 2611 opacity 0.43 2...  \n",
       "2474  opacity 0.2 2231 828 2764 1825 opacity 0.19 31...  \n",
       "2475  opacity 0.47999998927116394 536 697 1482 2400 ...  \n",
       "2476  opacity 0.5299999713897705 516 725 1456 2370 o...  \n",
       "\n",
       "[2477 rows x 3 columns]"
      ]
     },
     "execution_count": 6,
     "metadata": {},
     "output_type": "execute_result"
    }
   ],
   "source": [
    "sub"
   ]
  },
  {
   "cell_type": "code",
   "execution_count": 7,
   "id": "b8b13c85",
   "metadata": {
    "execution": {
     "iopub.execute_input": "2021-08-03T03:19:06.882754Z",
     "iopub.status.busy": "2021-08-03T03:19:06.882074Z",
     "iopub.status.idle": "2021-08-03T03:19:06.885588Z",
     "shell.execute_reply": "2021-08-03T03:19:06.884839Z",
     "shell.execute_reply.started": "2021-08-02T05:50:51.912027Z"
    },
    "papermill": {
     "duration": 0.02537,
     "end_time": "2021-08-03T03:19:06.885737",
     "exception": false,
     "start_time": "2021-08-03T03:19:06.860367",
     "status": "completed"
    },
    "tags": []
   },
   "outputs": [],
   "source": [
    "sub = sub.loc[:, ['id', 'PredictionString_y']] "
   ]
  },
  {
   "cell_type": "code",
   "execution_count": 8,
   "id": "e8fd04b9",
   "metadata": {
    "execution": {
     "iopub.execute_input": "2021-08-03T03:19:06.913603Z",
     "iopub.status.busy": "2021-08-03T03:19:06.912797Z",
     "iopub.status.idle": "2021-08-03T03:19:06.918573Z",
     "shell.execute_reply": "2021-08-03T03:19:06.918025Z",
     "shell.execute_reply.started": "2021-08-02T05:50:51.926885Z"
    },
    "papermill": {
     "duration": 0.020405,
     "end_time": "2021-08-03T03:19:06.918709",
     "exception": false,
     "start_time": "2021-08-03T03:19:06.898304",
     "status": "completed"
    },
    "tags": []
   },
   "outputs": [],
   "source": [
    "sub = sub.rename(columns= {'id':\"id\",'PredictionString_y': 'PredictionString'})"
   ]
  },
  {
   "cell_type": "code",
   "execution_count": 9,
   "id": "6d31a55c",
   "metadata": {
    "execution": {
     "iopub.execute_input": "2021-08-03T03:19:06.945951Z",
     "iopub.status.busy": "2021-08-03T03:19:06.944770Z",
     "iopub.status.idle": "2021-08-03T03:19:06.957754Z",
     "shell.execute_reply": "2021-08-03T03:19:06.957051Z",
     "shell.execute_reply.started": "2021-08-02T05:50:51.942382Z"
    },
    "papermill": {
     "duration": 0.027517,
     "end_time": "2021-08-03T03:19:06.957897",
     "exception": false,
     "start_time": "2021-08-03T03:19:06.930380",
     "status": "completed"
    },
    "tags": []
   },
   "outputs": [
    {
     "data": {
      "text/html": [
       "<div>\n",
       "<style scoped>\n",
       "    .dataframe tbody tr th:only-of-type {\n",
       "        vertical-align: middle;\n",
       "    }\n",
       "\n",
       "    .dataframe tbody tr th {\n",
       "        vertical-align: top;\n",
       "    }\n",
       "\n",
       "    .dataframe thead th {\n",
       "        text-align: right;\n",
       "    }\n",
       "</style>\n",
       "<table border=\"1\" class=\"dataframe\">\n",
       "  <thead>\n",
       "    <tr style=\"text-align: right;\">\n",
       "      <th></th>\n",
       "      <th>id</th>\n",
       "      <th>PredictionString</th>\n",
       "    </tr>\n",
       "  </thead>\n",
       "  <tbody>\n",
       "    <tr>\n",
       "      <th>0</th>\n",
       "      <td>00188a671292_study</td>\n",
       "      <td>negative 0.8558322191238403 0 0 1 1 typical 0....</td>\n",
       "    </tr>\n",
       "    <tr>\n",
       "      <th>1</th>\n",
       "      <td>004bd59708be_study</td>\n",
       "      <td>negative 0.0003815750533249229 0 0 1 1 typical...</td>\n",
       "    </tr>\n",
       "    <tr>\n",
       "      <th>2</th>\n",
       "      <td>00508faccd39_study</td>\n",
       "      <td>negative 0.7992270588874817 0 0 1 1 typical 0....</td>\n",
       "    </tr>\n",
       "    <tr>\n",
       "      <th>3</th>\n",
       "      <td>006486aa80b2_study</td>\n",
       "      <td>negative 0.21704010665416718 0 0 1 1 typical 0...</td>\n",
       "    </tr>\n",
       "    <tr>\n",
       "      <th>4</th>\n",
       "      <td>00655178fdfc_study</td>\n",
       "      <td>negative 0.5215725898742676 0 0 1 1 typical 0....</td>\n",
       "    </tr>\n",
       "    <tr>\n",
       "      <th>...</th>\n",
       "      <td>...</td>\n",
       "      <td>...</td>\n",
       "    </tr>\n",
       "    <tr>\n",
       "      <th>2472</th>\n",
       "      <td>46719b856de1_image</td>\n",
       "      <td>opacity 0.12999999523162842 467 631 934 1607 o...</td>\n",
       "    </tr>\n",
       "    <tr>\n",
       "      <th>2473</th>\n",
       "      <td>31c07523a69a_image</td>\n",
       "      <td>opacity 0.44 868 1134 1872 2611 opacity 0.43 2...</td>\n",
       "    </tr>\n",
       "    <tr>\n",
       "      <th>2474</th>\n",
       "      <td>f77d7d1aebab_image</td>\n",
       "      <td>opacity 0.2 2231 828 2764 1825 opacity 0.19 31...</td>\n",
       "    </tr>\n",
       "    <tr>\n",
       "      <th>2475</th>\n",
       "      <td>ccc5b63ca96d_image</td>\n",
       "      <td>opacity 0.47999998927116394 536 697 1482 2400 ...</td>\n",
       "    </tr>\n",
       "    <tr>\n",
       "      <th>2476</th>\n",
       "      <td>5e8ac1fe2b82_image</td>\n",
       "      <td>opacity 0.5299999713897705 516 725 1456 2370 o...</td>\n",
       "    </tr>\n",
       "  </tbody>\n",
       "</table>\n",
       "<p>2477 rows × 2 columns</p>\n",
       "</div>"
      ],
      "text/plain": [
       "                      id                                   PredictionString\n",
       "0     00188a671292_study  negative 0.8558322191238403 0 0 1 1 typical 0....\n",
       "1     004bd59708be_study  negative 0.0003815750533249229 0 0 1 1 typical...\n",
       "2     00508faccd39_study  negative 0.7992270588874817 0 0 1 1 typical 0....\n",
       "3     006486aa80b2_study  negative 0.21704010665416718 0 0 1 1 typical 0...\n",
       "4     00655178fdfc_study  negative 0.5215725898742676 0 0 1 1 typical 0....\n",
       "...                  ...                                                ...\n",
       "2472  46719b856de1_image  opacity 0.12999999523162842 467 631 934 1607 o...\n",
       "2473  31c07523a69a_image  opacity 0.44 868 1134 1872 2611 opacity 0.43 2...\n",
       "2474  f77d7d1aebab_image  opacity 0.2 2231 828 2764 1825 opacity 0.19 31...\n",
       "2475  ccc5b63ca96d_image  opacity 0.47999998927116394 536 697 1482 2400 ...\n",
       "2476  5e8ac1fe2b82_image  opacity 0.5299999713897705 516 725 1456 2370 o...\n",
       "\n",
       "[2477 rows x 2 columns]"
      ]
     },
     "execution_count": 9,
     "metadata": {},
     "output_type": "execute_result"
    }
   ],
   "source": [
    "sub"
   ]
  },
  {
   "cell_type": "code",
   "execution_count": 10,
   "id": "6f7ef4cc",
   "metadata": {
    "execution": {
     "iopub.execute_input": "2021-08-03T03:19:06.986329Z",
     "iopub.status.busy": "2021-08-03T03:19:06.985711Z",
     "iopub.status.idle": "2021-08-03T03:19:07.017421Z",
     "shell.execute_reply": "2021-08-03T03:19:07.016745Z",
     "shell.execute_reply.started": "2021-08-02T05:50:51.963467Z"
    },
    "papermill": {
     "duration": 0.047093,
     "end_time": "2021-08-03T03:19:07.017601",
     "exception": false,
     "start_time": "2021-08-03T03:19:06.970508",
     "status": "completed"
    },
    "tags": []
   },
   "outputs": [],
   "source": [
    "sub.to_csv('/kaggle/working/submission.csv',index = False)  "
   ]
  },
  {
   "cell_type": "code",
   "execution_count": null,
   "id": "ea55cebb",
   "metadata": {
    "papermill": {
     "duration": 0.012465,
     "end_time": "2021-08-03T03:19:07.042727",
     "exception": false,
     "start_time": "2021-08-03T03:19:07.030262",
     "status": "completed"
    },
    "tags": []
   },
   "outputs": [],
   "source": []
  },
  {
   "cell_type": "code",
   "execution_count": null,
   "id": "ba9ff539",
   "metadata": {
    "papermill": {
     "duration": 0.012732,
     "end_time": "2021-08-03T03:19:07.068525",
     "exception": false,
     "start_time": "2021-08-03T03:19:07.055793",
     "status": "completed"
    },
    "tags": []
   },
   "outputs": [],
   "source": []
  }
 ],
 "metadata": {
  "kernelspec": {
   "display_name": "Python 3",
   "language": "python",
   "name": "python3"
  },
  "language_info": {
   "codemirror_mode": {
    "name": "ipython",
    "version": 3
   },
   "file_extension": ".py",
   "mimetype": "text/x-python",
   "name": "python",
   "nbconvert_exporter": "python",
   "pygments_lexer": "ipython3",
   "version": "3.7.10"
  },
  "papermill": {
   "default_parameters": {},
   "duration": 9.641141,
   "end_time": "2021-08-03T03:19:07.791217",
   "environment_variables": {},
   "exception": null,
   "input_path": "__notebook__.ipynb",
   "output_path": "__notebook__.ipynb",
   "parameters": {},
   "start_time": "2021-08-03T03:18:58.150076",
   "version": "2.3.3"
  }
 },
 "nbformat": 4,
 "nbformat_minor": 5
}
