{
 "cells": [
  {
   "cell_type": "markdown",
   "id": "basic-scott",
   "metadata": {
    "papermill": {
     "duration": 0.018192,
     "end_time": "2021-07-27T05:34:44.151460",
     "exception": false,
     "start_time": "2021-07-27T05:34:44.133268",
     "status": "completed"
    },
    "tags": []
   },
   "source": [
    "This notebook is forked from https://www.kaggle.com/h053473666/siim-cov19-efnb7-yolov5-infer with the main modification is that I use the latest yolov5 version cloned from ultralytics's github. \n",
    "\n",
    "Also, in training phase, I trained for **150 epochs** while the original notebook trained on *30 epochs*.\n",
    "The score is improved from 0.598 to 0.602.\n",
    "\n",
    "You may to change hyperparameters in the hyp.yaml file to get better scores.\n",
    "# Update: \n",
    "1. Version 13+: apply model blend from https://www.kaggle.com/batprem/model-blend"
   ]
  },
  {
   "cell_type": "code",
   "execution_count": 1,
   "id": "plastic-exclusive",
   "metadata": {
    "_kg_hide-input": true,
    "_kg_hide-output": true,
    "execution": {
     "iopub.execute_input": "2021-07-27T05:34:44.191642Z",
     "iopub.status.busy": "2021-07-27T05:34:44.190117Z",
     "iopub.status.idle": "2021-07-27T05:35:53.195769Z",
     "shell.execute_reply": "2021-07-27T05:35:53.195156Z",
     "shell.execute_reply.started": "2021-07-20T05:44:43.148497Z"
    },
    "papermill": {
     "duration": 69.027183,
     "end_time": "2021-07-27T05:35:53.195951",
     "exception": false,
     "start_time": "2021-07-27T05:34:44.168768",
     "status": "completed"
    },
    "tags": []
   },
   "outputs": [
    {
     "name": "stdout",
     "output_type": "stream",
     "text": [
      "\r\n",
      "Downloading and Extracting Packages\r\n",
      "######################################################################## | 100% \r\n",
      "Preparing transaction: - \b\bdone\r\n",
      "Verifying transaction: | \b\bdone\r\n",
      "Executing transaction: - \b\b\\ \b\bdone\r\n",
      "\r\n",
      "Downloading and Extracting Packages\r\n",
      "######################################################################## | 100% \r\n",
      "Preparing transaction: - \b\bdone\r\n",
      "Verifying transaction: | \b\bdone\r\n",
      "Executing transaction: - \b\b\\ \b\b| \b\bdone\r\n",
      "\r\n",
      "Downloading and Extracting Packages\r\n",
      "######################################################################## | 100% \r\n",
      "Preparing transaction: - \b\bdone\r\n",
      "Verifying transaction: | \b\bdone\r\n",
      "Executing transaction: - \b\bdone\r\n",
      "\r\n",
      "Downloading and Extracting Packages\r\n",
      "######################################################################## | 100% \r\n",
      "Preparing transaction: - \b\bdone\r\n",
      "Verifying transaction: | \b\bdone\r\n",
      "Executing transaction: - \b\b\\ \b\b| \b\b/ \b\b- \b\b\\ \b\b| \b\b/ \b\b- \b\b\\ \b\b| \b\b/ \b\b- \b\b\\ \b\b| \b\b/ \b\b- \b\b\\ \b\b| \b\b/ \b\bdone\r\n",
      "\r\n",
      "Downloading and Extracting Packages\r\n",
      "######################################################################## | 100% \r\n",
      "Preparing transaction: - \b\bdone\r\n",
      "Verifying transaction: | \b\bdone\r\n",
      "Executing transaction: - \b\bdone\r\n",
      "\r\n",
      "Downloading and Extracting Packages\r\n",
      "######################################################################## | 100% \r\n",
      "Preparing transaction: - \b\bdone\r\n",
      "Verifying transaction: | \b\bdone\r\n",
      "Executing transaction: - \b\b\\ \b\b| \b\b/ \b\b- \b\b\\ \b\bdone\r\n"
     ]
    }
   ],
   "source": [
    "!conda install '/kaggle/input/pydicom-conda-helper/libjpeg-turbo-2.1.0-h7f98852_0.tar.bz2' -c conda-forge -y\n",
    "!conda install '/kaggle/input/pydicom-conda-helper/libgcc-ng-9.3.0-h2828fa1_19.tar.bz2' -c conda-forge -y\n",
    "!conda install '/kaggle/input/pydicom-conda-helper/gdcm-2.8.9-py37h500ead1_1.tar.bz2' -c conda-forge -y\n",
    "!conda install '/kaggle/input/pydicom-conda-helper/conda-4.10.1-py37h89c1867_0.tar.bz2' -c conda-forge -y\n",
    "!conda install '/kaggle/input/pydicom-conda-helper/certifi-2020.12.5-py37h89c1867_1.tar.bz2' -c conda-forge -y\n",
    "!conda install '/kaggle/input/pydicom-conda-helper/openssl-1.1.1k-h7f98852_0.tar.bz2' -c conda-forge -y"
   ]
  },
  {
   "cell_type": "code",
   "execution_count": 2,
   "id": "parental-harvest",
   "metadata": {
    "_cell_guid": "b1076dfc-b9ad-4769-8c92-a6c4dae69d19",
    "_uuid": "8f2839f25d086af736a60e9eeb907d3b93b6e0e5",
    "execution": {
     "iopub.execute_input": "2021-07-27T05:35:53.266553Z",
     "iopub.status.busy": "2021-07-27T05:35:53.265797Z",
     "iopub.status.idle": "2021-07-27T05:35:53.273131Z",
     "shell.execute_reply": "2021-07-27T05:35:53.272404Z",
     "shell.execute_reply.started": "2021-07-20T05:45:51.196818Z"
    },
    "papermill": {
     "duration": 0.043864,
     "end_time": "2021-07-27T05:35:53.273242",
     "exception": false,
     "start_time": "2021-07-27T05:35:53.229378",
     "status": "completed"
    },
    "tags": []
   },
   "outputs": [],
   "source": [
    "import os\n",
    "\n",
    "from PIL import Image\n",
    "import pandas as pd\n",
    "from tqdm.auto import tqdm"
   ]
  },
  {
   "cell_type": "code",
   "execution_count": 3,
   "id": "pursuant-auckland",
   "metadata": {
    "execution": {
     "iopub.execute_input": "2021-07-27T05:35:53.344667Z",
     "iopub.status.busy": "2021-07-27T05:35:53.344169Z",
     "iopub.status.idle": "2021-07-27T05:35:53.358799Z",
     "shell.execute_reply": "2021-07-27T05:35:53.358386Z",
     "shell.execute_reply.started": "2021-07-20T05:45:51.211174Z"
    },
    "papermill": {
     "duration": 0.05308,
     "end_time": "2021-07-27T05:35:53.358941",
     "exception": false,
     "start_time": "2021-07-27T05:35:53.305861",
     "status": "completed"
    },
    "tags": []
   },
   "outputs": [],
   "source": [
    "df = pd.read_csv('/kaggle/input/siim-covid19-detection/sample_submission.csv')\n",
    "if df.shape[0] == 2477:\n",
    "    fast_sub = True\n",
    "    fast_df = pd.DataFrame(([['00086460a852_study', 'negative 1 0 0 1 1'], \n",
    "                         ['000c9c05fd14_study', 'negative 1 0 0 1 1'], \n",
    "                         ['65761e66de9f_image', 'none 1 0 0 1 1'], \n",
    "                         ['51759b5579bc_image', 'none 1 0 0 1 1']]), \n",
    "                       columns=['id', 'PredictionString'])\n",
    "else:\n",
    "    fast_sub = False"
   ]
  },
  {
   "cell_type": "markdown",
   "id": "dangerous-writer",
   "metadata": {
    "papermill": {
     "duration": 0.03251,
     "end_time": "2021-07-27T05:35:53.424140",
     "exception": false,
     "start_time": "2021-07-27T05:35:53.391630",
     "status": "completed"
    },
    "tags": []
   },
   "source": [
    "# .dcm to .png"
   ]
  },
  {
   "cell_type": "code",
   "execution_count": 4,
   "id": "completed-square",
   "metadata": {
    "execution": {
     "iopub.execute_input": "2021-07-27T05:35:53.495515Z",
     "iopub.status.busy": "2021-07-27T05:35:53.494706Z",
     "iopub.status.idle": "2021-07-27T05:35:53.654403Z",
     "shell.execute_reply": "2021-07-27T05:35:53.654811Z",
     "shell.execute_reply.started": "2021-07-20T05:45:51.237166Z"
    },
    "papermill": {
     "duration": 0.198514,
     "end_time": "2021-07-27T05:35:53.655000",
     "exception": false,
     "start_time": "2021-07-27T05:35:53.456486",
     "status": "completed"
    },
    "tags": []
   },
   "outputs": [],
   "source": [
    "import numpy as np\n",
    "import pydicom\n",
    "from pydicom.pixel_data_handlers.util import apply_voi_lut\n",
    "\n",
    "def read_xray(path, voi_lut = True, fix_monochrome = True):\n",
    "    # Original from: https://www.kaggle.com/raddar/convert-dicom-to-np-array-the-correct-way\n",
    "    dicom = pydicom.read_file(path)\n",
    "    \n",
    "    # VOI LUT (if available by DICOM device) is used to transform raw DICOM data to \n",
    "    # \"human-friendly\" view\n",
    "    if voi_lut:\n",
    "        data = apply_voi_lut(dicom.pixel_array, dicom)\n",
    "    else:\n",
    "        data = dicom.pixel_array\n",
    "               \n",
    "    # depending on this value, X-ray may look inverted - fix that:\n",
    "    if fix_monochrome and dicom.PhotometricInterpretation == \"MONOCHROME1\":\n",
    "        data = np.amax(data) - data\n",
    "        \n",
    "    data = data - np.min(data)\n",
    "    data = data / np.max(data)\n",
    "    data = (data * 255).astype(np.uint8)\n",
    "        \n",
    "    return data"
   ]
  },
  {
   "cell_type": "code",
   "execution_count": 5,
   "id": "thorough-cleanup",
   "metadata": {
    "execution": {
     "iopub.execute_input": "2021-07-27T05:35:53.779990Z",
     "iopub.status.busy": "2021-07-27T05:35:53.779010Z",
     "iopub.status.idle": "2021-07-27T05:35:53.780938Z",
     "shell.execute_reply": "2021-07-27T05:35:53.781678Z",
     "shell.execute_reply.started": "2021-07-20T05:45:51.460386Z"
    },
    "papermill": {
     "duration": 0.067539,
     "end_time": "2021-07-27T05:35:53.781890",
     "exception": false,
     "start_time": "2021-07-27T05:35:53.714351",
     "status": "completed"
    },
    "tags": []
   },
   "outputs": [],
   "source": [
    "def resize(array, size, keep_ratio=False, resample=Image.LANCZOS):\n",
    "    # Original from: https://www.kaggle.com/xhlulu/vinbigdata-process-and-resize-to-image\n",
    "    im = Image.fromarray(array)\n",
    "    \n",
    "    if keep_ratio:\n",
    "        im.thumbnail((size, size), resample)\n",
    "    else:\n",
    "        im = im.resize((size, size), resample)\n",
    "    \n",
    "    return im"
   ]
  },
  {
   "cell_type": "code",
   "execution_count": 6,
   "id": "experienced-hostel",
   "metadata": {
    "execution": {
     "iopub.execute_input": "2021-07-27T05:35:53.900265Z",
     "iopub.status.busy": "2021-07-27T05:35:53.899307Z",
     "iopub.status.idle": "2021-07-27T05:35:55.535150Z",
     "shell.execute_reply": "2021-07-27T05:35:55.534639Z",
     "shell.execute_reply.started": "2021-07-20T05:45:51.467516Z"
    },
    "papermill": {
     "duration": 1.700187,
     "end_time": "2021-07-27T05:35:55.535291",
     "exception": false,
     "start_time": "2021-07-27T05:35:53.835104",
     "status": "completed"
    },
    "tags": []
   },
   "outputs": [],
   "source": [
    "\n",
    "split = 'test'\n",
    "save_dir = f'/kaggle/tmp/{split}/'\n",
    "\n",
    "os.makedirs(save_dir, exist_ok=True)\n",
    "\n",
    "save_dir = f'/kaggle/tmp/{split}/study/'\n",
    "os.makedirs(save_dir, exist_ok=True)\n",
    "if fast_sub:\n",
    "    xray = read_xray('/kaggle/input/siim-covid19-detection/train/00086460a852/9e8302230c91/65761e66de9f.dcm')\n",
    "    im = resize(xray, size=600)  \n",
    "    study = '00086460a852' + '_study.png'\n",
    "    im.save(os.path.join(save_dir, study))\n",
    "    xray = read_xray('/kaggle/input/siim-covid19-detection/train/000c9c05fd14/e555410bd2cd/51759b5579bc.dcm')\n",
    "    im = resize(xray, size=600)  \n",
    "    study = '000c9c05fd14' + '_study.png'\n",
    "    im.save(os.path.join(save_dir, study))\n",
    "else:   \n",
    "    for dirname, _, filenames in tqdm(os.walk(f'/kaggle/input/siim-covid19-detection/{split}')):\n",
    "        for file in filenames:\n",
    "            # set keep_ratio=True to have original aspect ratio\n",
    "            xray = read_xray(os.path.join(dirname, file))\n",
    "            im = resize(xray, size=600)  \n",
    "            study = dirname.split('/')[-2] + '_study.png'\n",
    "            im.save(os.path.join(save_dir, study))\n"
   ]
  },
  {
   "cell_type": "code",
   "execution_count": 7,
   "id": "bulgarian-transformation",
   "metadata": {
    "execution": {
     "iopub.execute_input": "2021-07-27T05:35:55.610682Z",
     "iopub.status.busy": "2021-07-27T05:35:55.610157Z",
     "iopub.status.idle": "2021-07-27T05:35:55.988759Z",
     "shell.execute_reply": "2021-07-27T05:35:55.988305Z",
     "shell.execute_reply.started": "2021-07-20T05:45:53.04343Z"
    },
    "papermill": {
     "duration": 0.420708,
     "end_time": "2021-07-27T05:35:55.988921",
     "exception": false,
     "start_time": "2021-07-27T05:35:55.568213",
     "status": "completed"
    },
    "tags": []
   },
   "outputs": [],
   "source": [
    "image_id = []\n",
    "dim0 = []\n",
    "dim1 = []\n",
    "splits = []\n",
    "save_dir = f'/kaggle/tmp/{split}/image/'\n",
    "os.makedirs(save_dir, exist_ok=True)\n",
    "if fast_sub:\n",
    "    xray = read_xray('/kaggle/input/siim-covid19-detection/train/00086460a852/9e8302230c91/65761e66de9f.dcm')\n",
    "    im = resize(xray, size=512)  \n",
    "    im.save(os.path.join(save_dir,'65761e66de9f_image.png'))\n",
    "    image_id.append('65761e66de9f.dcm'.replace('.dcm', ''))\n",
    "    dim0.append(xray.shape[0])\n",
    "    dim1.append(xray.shape[1])\n",
    "    splits.append(split)\n",
    "    xray = read_xray('/kaggle/input/siim-covid19-detection/train/000c9c05fd14/e555410bd2cd/51759b5579bc.dcm')\n",
    "    im = resize(xray, size=512)  \n",
    "    im.save(os.path.join(save_dir, '51759b5579bc_image.png'))\n",
    "    image_id.append('51759b5579bc.dcm'.replace('.dcm', ''))\n",
    "    dim0.append(xray.shape[0])\n",
    "    dim1.append(xray.shape[1])\n",
    "    splits.append(split)\n",
    "else:\n",
    "    for dirname, _, filenames in tqdm(os.walk(f'/kaggle/input/siim-covid19-detection/{split}')):\n",
    "        for file in filenames:\n",
    "            # set keep_ratio=True to have original aspect ratio\n",
    "            xray = read_xray(os.path.join(dirname, file))\n",
    "            im = resize(xray, size=512)  \n",
    "            im.save(os.path.join(save_dir, file.replace('.dcm', '_image.png')))\n",
    "            image_id.append(file.replace('.dcm', ''))\n",
    "            dim0.append(xray.shape[0])\n",
    "            dim1.append(xray.shape[1])\n",
    "            splits.append(split)\n",
    "meta = pd.DataFrame.from_dict({'image_id': image_id, 'dim0': dim0, 'dim1': dim1, 'split': splits})"
   ]
  },
  {
   "cell_type": "markdown",
   "id": "domestic-costs",
   "metadata": {
    "papermill": {
     "duration": 0.032433,
     "end_time": "2021-07-27T05:35:56.054286",
     "exception": false,
     "start_time": "2021-07-27T05:35:56.021853",
     "status": "completed"
    },
    "tags": []
   },
   "source": [
    "# study predict"
   ]
  },
  {
   "cell_type": "code",
   "execution_count": 8,
   "id": "registered-great",
   "metadata": {
    "execution": {
     "iopub.execute_input": "2021-07-27T05:35:56.134551Z",
     "iopub.status.busy": "2021-07-27T05:35:56.133896Z",
     "iopub.status.idle": "2021-07-27T05:35:56.137261Z",
     "shell.execute_reply": "2021-07-27T05:35:56.136737Z",
     "shell.execute_reply.started": "2021-07-20T05:45:53.430528Z"
    },
    "papermill": {
     "duration": 0.050756,
     "end_time": "2021-07-27T05:35:56.137413",
     "exception": false,
     "start_time": "2021-07-27T05:35:56.086657",
     "status": "completed"
    },
    "tags": []
   },
   "outputs": [],
   "source": [
    "import numpy as np \n",
    "import pandas as pd\n",
    "if fast_sub:\n",
    "    df = fast_df.copy()\n",
    "else:\n",
    "    df = pd.read_csv('/kaggle/input/siim-covid19-detection/sample_submission.csv')\n",
    "id_laststr_list  = []\n",
    "for i in range(df.shape[0]):\n",
    "    id_laststr_list.append(df.loc[i,'id'][-1])\n",
    "df['id_last_str'] = id_laststr_list\n",
    "\n",
    "study_len = df[df['id_last_str'] == 'y'].shape[0]"
   ]
  },
  {
   "cell_type": "code",
   "execution_count": 9,
   "id": "fatty-cleaners",
   "metadata": {
    "execution": {
     "iopub.execute_input": "2021-07-27T05:35:56.226496Z",
     "iopub.status.busy": "2021-07-27T05:35:56.205769Z",
     "iopub.status.idle": "2021-07-27T05:38:54.999364Z",
     "shell.execute_reply": "2021-07-27T05:38:55.000420Z",
     "shell.execute_reply.started": "2021-07-20T05:45:53.447293Z"
    },
    "papermill": {
     "duration": 178.829995,
     "end_time": "2021-07-27T05:38:55.000636",
     "exception": false,
     "start_time": "2021-07-27T05:35:56.170641",
     "status": "completed"
    },
    "tags": []
   },
   "outputs": [
    {
     "name": "stdout",
     "output_type": "stream",
     "text": [
      "Running on 1 replicas\n",
      "1/1 [==============================] - 8s 8s/step\n",
      "1/1 [==============================] - 4s 4s/step\n",
      "1/1 [==============================] - 4s 4s/step\n",
      "1/1 [==============================] - 4s 4s/step\n",
      "1/1 [==============================] - 4s 4s/step\n"
     ]
    }
   ],
   "source": [
    "!pip install /kaggle/input/kerasapplications -q\n",
    "!pip install /kaggle/input/efficientnet-keras-source-code/ -q --no-deps\n",
    "\n",
    "import os\n",
    "\n",
    "import efficientnet.tfkeras as efn\n",
    "import numpy as np\n",
    "import pandas as pd\n",
    "import tensorflow as tf\n",
    "import random\n",
    "\n",
    "def auto_select_accelerator():\n",
    "    try:\n",
    "        tpu = tf.distribute.cluster_resolver.TPUClusterResolver()\n",
    "        tf.config.experimental_connect_to_cluster(tpu)\n",
    "        tf.tpu.experimental.initialize_tpu_system(tpu)\n",
    "        strategy = tf.distribute.experimental.TPUStrategy(tpu)\n",
    "        print(\"Running on TPU:\", tpu.master())\n",
    "    except ValueError:\n",
    "        strategy = tf.distribute.get_strategy()\n",
    "    print(f\"Running on {strategy.num_replicas_in_sync} replicas\")\n",
    "\n",
    "    return strategy\n",
    "\n",
    "\n",
    "def build_decoder(with_labels=True, target_size=(300, 300), ext='jpg'):\n",
    "    def decode(path):\n",
    "        file_bytes = tf.io.read_file(path)\n",
    "        if ext == 'png':\n",
    "            img = tf.image.decode_png(file_bytes, channels=3)\n",
    "        elif ext in ['jpg', 'jpeg']:\n",
    "            img = tf.image.decode_jpeg(file_bytes, channels=3)\n",
    "        else:\n",
    "            raise ValueError(\"Image extension not supported\")\n",
    "\n",
    "        img = tf.cast(img, tf.float32) / 355.0\n",
    "        img = tf.image.resize(img, target_size)\n",
    "\n",
    "        return img\n",
    "\n",
    "    def decode_with_labels(path, label):\n",
    "        return decode(path), label\n",
    "\n",
    "    return decode_with_labels if with_labels else decode\n",
    "\n",
    "\n",
    "def build_augmenter(with_labels=True):\n",
    "    def augment(img):\n",
    "        img = tf.image.random_flip_left_right(img)\n",
    "        img = tf.image.random_flip_up_down(img)\n",
    "        \n",
    "        random_number = random.randint(0,2)\n",
    "        if random_number == 1:\n",
    "            img = tf.image.adjust_brightness(img, 1.2)\n",
    "        if random_number == 2:\n",
    "            img = tf.image.adjust_brightness(img, 0.8)\n",
    "        return img\n",
    "\n",
    "    def augment_with_labels(img, label):\n",
    "        return augment(img), label\n",
    "\n",
    "    return augment_with_labels if with_labels else augment\n",
    "\n",
    "\n",
    "def build_dataset(paths, labels=None, bsize=32, cache=True,\n",
    "                  decode_fn=None, augment_fn=None,\n",
    "                  augment=True, repeat=True, shuffle=1024, \n",
    "                  cache_dir=\"\"):\n",
    "    if cache_dir != \"\" and cache is True:\n",
    "        os.makedirs(cache_dir, exist_ok=True)\n",
    "\n",
    "    if decode_fn is None:\n",
    "        decode_fn = build_decoder(labels is not None)\n",
    "\n",
    "    if augment_fn is None:\n",
    "        augment_fn = build_augmenter(labels is not None)\n",
    "\n",
    "    AUTO = tf.data.experimental.AUTOTUNE\n",
    "    slices = paths if labels is None else (paths, labels)\n",
    "\n",
    "    dset = tf.data.Dataset.from_tensor_slices(slices)\n",
    "    dset = dset.map(decode_fn, num_parallel_calls=AUTO)\n",
    "    dset = dset.cache(cache_dir) if cache else dset\n",
    "    dset = dset.map(augment_fn, num_parallel_calls=AUTO) if augment else dset\n",
    "    dset = dset.repeat() if repeat else dset\n",
    "    dset = dset.shuffle(shuffle) if shuffle else dset\n",
    "    dset = dset.batch(bsize).prefetch(AUTO)\n",
    "\n",
    "    return dset\n",
    "\n",
    "#COMPETITION_NAME = \"siim-cov19-test-img512-study-600\"\n",
    "strategy = auto_select_accelerator()\n",
    "BATCH_SIZE = strategy.num_replicas_in_sync * 16\n",
    "\n",
    "IMSIZE = (224, 240, 260, 300, 380, 456, 528, 600, 512)\n",
    "\n",
    "#load_dir = f\"/kaggle/input/{COMPETITION_NAME}/\"\n",
    "if fast_sub:\n",
    "    sub_df = fast_df.copy()\n",
    "else:\n",
    "    sub_df = pd.read_csv('/kaggle/input/siim-covid19-detection/sample_submission.csv')\n",
    "sub_df = sub_df[:study_len]\n",
    "test_paths = f'/kaggle/tmp/{split}/study/' + sub_df['id'] +'.png'\n",
    "\n",
    "sub_df['negative'] = 0\n",
    "sub_df['typical'] = 0\n",
    "sub_df['indeterminate'] = 0\n",
    "sub_df['atypical'] = 0\n",
    "\n",
    "\n",
    "label_cols = sub_df.columns[2:]\n",
    "\n",
    "test_decoder = build_decoder(with_labels=False, target_size=(IMSIZE[7], IMSIZE[7]), ext='png')\n",
    "dtest = build_dataset(\n",
    "    test_paths, bsize=BATCH_SIZE, repeat=False, \n",
    "    shuffle=False, augment=False, cache=False,\n",
    "    decode_fn=test_decoder\n",
    ")\n",
    "\n",
    "with strategy.scope():\n",
    "    \n",
    "    models = []\n",
    "    \n",
    "    models0 = tf.keras.models.load_model(\n",
    "        '../input/siim-covid19-efnb7-train-study/model0.h5'\n",
    "    )\n",
    "    models1 = tf.keras.models.load_model(\n",
    "        '../input/siim-covid19-efnb7-train-study/model1.h5'\n",
    "    )\n",
    "    models2 = tf.keras.models.load_model(\n",
    "        '../input/siim-covid19-efnb7-train-study/model2.h5'\n",
    "    )\n",
    "    models3 = tf.keras.models.load_model(\n",
    "        '../input/siim-covid19-efnb7-train-study/model3.h5'\n",
    "    )\n",
    "    models4 = tf.keras.models.load_model(\n",
    "        '../input/siim-covid19-efnb7-train-study/model4.h5'\n",
    "    )\n",
    "    \n",
    "    models.append(models0)\n",
    "    models.append(models1)\n",
    "    models.append(models2)\n",
    "    models.append(models3)\n",
    "    models.append(models4)\n",
    "    \n",
    "weights = {\n",
    "    0: 1,\n",
    "    1: 1,\n",
    "    2: 1,\n",
    "    3: 1,\n",
    "    4: 3\n",
    "}\n",
    "\n",
    "weights_sum = sum(weights.values())\n",
    "weights = {k: v/weights_sum for k, v in weights.items()}\n",
    "\n",
    "predictions = [model.predict(dtest, verbose=1) for model in models]\n",
    "for i, pred in enumerate(predictions):\n",
    "    predictions[i] = weights[i] * pred\n",
    "    \n",
    "sub_df[label_cols] = sum(predictions)    \n",
    "\n",
    "#sub_df[label_cols] = sum([model.predict(dtest, verbose=1) for model in models]) / len(models)"
   ]
  },
  {
   "cell_type": "code",
   "execution_count": 10,
   "id": "sensitive-brazil",
   "metadata": {
    "execution": {
     "iopub.execute_input": "2021-07-27T05:38:55.124823Z",
     "iopub.status.busy": "2021-07-27T05:38:55.123704Z",
     "iopub.status.idle": "2021-07-27T05:38:55.132449Z",
     "shell.execute_reply": "2021-07-27T05:38:55.133501Z",
     "shell.execute_reply.started": "2021-07-20T05:48:54.021798Z"
    },
    "papermill": {
     "duration": 0.077429,
     "end_time": "2021-07-27T05:38:55.133777",
     "exception": false,
     "start_time": "2021-07-27T05:38:55.056348",
     "status": "completed"
    },
    "tags": []
   },
   "outputs": [],
   "source": [
    "sub_df.columns = ['id', 'PredictionString1', 'negative', 'typical', 'indeterminate', 'atypical']\n",
    "df = pd.merge(df, sub_df, on = 'id', how = 'left')"
   ]
  },
  {
   "cell_type": "markdown",
   "id": "sensitive-bracket",
   "metadata": {
    "papermill": {
     "duration": 0.058099,
     "end_time": "2021-07-27T05:38:55.252926",
     "exception": false,
     "start_time": "2021-07-27T05:38:55.194827",
     "status": "completed"
    },
    "tags": []
   },
   "source": [
    "# study string"
   ]
  },
  {
   "cell_type": "code",
   "execution_count": 11,
   "id": "processed-battlefield",
   "metadata": {
    "execution": {
     "iopub.execute_input": "2021-07-27T05:38:55.383517Z",
     "iopub.status.busy": "2021-07-27T05:38:55.381973Z",
     "iopub.status.idle": "2021-07-27T05:38:55.384245Z",
     "shell.execute_reply": "2021-07-27T05:38:55.382634Z",
     "shell.execute_reply.started": "2021-07-20T05:48:54.03512Z"
    },
    "papermill": {
     "duration": 0.072272,
     "end_time": "2021-07-27T05:38:55.384407",
     "exception": false,
     "start_time": "2021-07-27T05:38:55.312135",
     "status": "completed"
    },
    "tags": []
   },
   "outputs": [],
   "source": [
    "for i in range(study_len):\n",
    "    negative = df.loc[i,'negative']\n",
    "    typical = df.loc[i,'typical']\n",
    "    indeterminate = df.loc[i,'indeterminate']\n",
    "    atypical = df.loc[i,'atypical']\n",
    "    df.loc[i, 'PredictionString'] = f'negative {negative} 0 0 1 1 typical {typical} 0 0 1 1 indeterminate {indeterminate} 0 0 1 1 atypical {atypical} 0 0 1 1'"
   ]
  },
  {
   "cell_type": "code",
   "execution_count": 12,
   "id": "native-square",
   "metadata": {
    "execution": {
     "iopub.execute_input": "2021-07-27T05:38:55.519988Z",
     "iopub.status.busy": "2021-07-27T05:38:55.519116Z",
     "iopub.status.idle": "2021-07-27T05:38:55.521467Z",
     "shell.execute_reply": "2021-07-27T05:38:55.520669Z",
     "shell.execute_reply.started": "2021-07-20T05:48:54.045977Z"
    },
    "papermill": {
     "duration": 0.073656,
     "end_time": "2021-07-27T05:38:55.521623",
     "exception": false,
     "start_time": "2021-07-27T05:38:55.447967",
     "status": "completed"
    },
    "tags": []
   },
   "outputs": [],
   "source": [
    "df_study = df[['id', 'PredictionString']]\n",
    "\n",
    "# df.to_csv('submission.csv',index=False)\n",
    "# df"
   ]
  },
  {
   "cell_type": "markdown",
   "id": "ranging-tonight",
   "metadata": {
    "papermill": {
     "duration": 0.079523,
     "end_time": "2021-07-27T05:38:55.663794",
     "exception": false,
     "start_time": "2021-07-27T05:38:55.584271",
     "status": "completed"
    },
    "tags": []
   },
   "source": [
    "# 2 class"
   ]
  },
  {
   "cell_type": "code",
   "execution_count": 13,
   "id": "theoretical-coordinator",
   "metadata": {
    "execution": {
     "iopub.execute_input": "2021-07-27T05:38:55.796376Z",
     "iopub.status.busy": "2021-07-27T05:38:55.795584Z",
     "iopub.status.idle": "2021-07-27T05:40:55.085778Z",
     "shell.execute_reply": "2021-07-27T05:40:55.085043Z",
     "shell.execute_reply.started": "2021-07-20T05:48:54.055179Z"
    },
    "papermill": {
     "duration": 119.360655,
     "end_time": "2021-07-27T05:40:55.085960",
     "exception": false,
     "start_time": "2021-07-27T05:38:55.725305",
     "status": "completed"
    },
    "tags": []
   },
   "outputs": [
    {
     "name": "stdout",
     "output_type": "stream",
     "text": [
      "1/1 [==============================] - 4s 4s/step\n",
      "1/1 [==============================] - 4s 4s/step\n",
      "1/1 [==============================] - 4s 4s/step\n",
      "1/1 [==============================] - 5s 5s/step\n",
      "1/1 [==============================] - 4s 4s/step\n"
     ]
    }
   ],
   "source": [
    "if fast_sub:\n",
    "    sub_df = fast_df.copy()\n",
    "else:\n",
    "    sub_df = pd.read_csv('/kaggle/input/siim-covid19-detection/sample_submission.csv')\n",
    "sub_df = sub_df[study_len:]\n",
    "test_paths = f'/kaggle/tmp/{split}/image/' + sub_df['id'] +'.png'\n",
    "sub_df['none'] = 0\n",
    "\n",
    "label_cols = sub_df.columns[2]\n",
    "\n",
    "test_decoder = build_decoder(with_labels=False, target_size=(IMSIZE[8], IMSIZE[8]), ext='png')\n",
    "dtest = build_dataset(\n",
    "    test_paths, bsize=BATCH_SIZE, repeat=False, \n",
    "    shuffle=False, augment=False, cache=False,\n",
    "    decode_fn=test_decoder\n",
    ")\n",
    "\n",
    "with strategy.scope():\n",
    "    \n",
    "    models = []\n",
    "    \n",
    "    models0 = tf.keras.models.load_model(\n",
    "        '/kaggle/input/siim-covid19-efnb7-train-fold0-5-2class/model0.h5'\n",
    "    )\n",
    "    models1 = tf.keras.models.load_model(\n",
    "        '/kaggle/input/siim-covid19-efnb7-train-fold0-5-2class/model1.h5'\n",
    "    )\n",
    "    models2 = tf.keras.models.load_model(\n",
    "        '/kaggle/input/siim-covid19-efnb7-train-fold0-5-2class/model2.h5'\n",
    "    )\n",
    "    models3 = tf.keras.models.load_model(\n",
    "        '/kaggle/input/siim-covid19-efnb7-train-fold0-5-2class/model3.h5'\n",
    "    )\n",
    "    models4 = tf.keras.models.load_model(\n",
    "        '/kaggle/input/siim-covid19-efnb7-train-fold0-5-2class/model4.h5'\n",
    "    )\n",
    "    \n",
    "    models.append(models0)\n",
    "    models.append(models1)\n",
    "    models.append(models2)\n",
    "    models.append(models3)\n",
    "    models.append(models4)\n",
    "\n",
    "weights = {\n",
    "    0: 1,\n",
    "    1: 1,\n",
    "    2: 1,\n",
    "    3: 1,\n",
    "    4: 3\n",
    "}\n",
    "\n",
    "weights_sum = sum(weights.values())\n",
    "weights = {k: v/weights_sum for k, v in weights.items()}\n",
    "\n",
    "predictions = [model.predict(dtest, verbose=1) for model in models]\n",
    "for i, pred in enumerate(predictions):\n",
    "    predictions[i] = weights[i] * pred\n",
    "    \n",
    "sub_df[label_cols] = sum(predictions)\n",
    "#sub_df[label_cols] = sum([model.predict(dtest, verbose=1) for model in models]) / len(models)\n",
    "df_2class = sub_df.reset_index(drop=True)"
   ]
  },
  {
   "cell_type": "code",
   "execution_count": 14,
   "id": "ruled-hamburg",
   "metadata": {
    "execution": {
     "iopub.execute_input": "2021-07-27T05:40:55.165473Z",
     "iopub.status.busy": "2021-07-27T05:40:55.164738Z",
     "iopub.status.idle": "2021-07-27T05:40:55.167606Z",
     "shell.execute_reply": "2021-07-27T05:40:55.167198Z",
     "shell.execute_reply.started": "2021-07-20T05:50:55.682375Z"
    },
    "papermill": {
     "duration": 0.044038,
     "end_time": "2021-07-27T05:40:55.167716",
     "exception": false,
     "start_time": "2021-07-27T05:40:55.123678",
     "status": "completed"
    },
    "tags": []
   },
   "outputs": [],
   "source": [
    "del models\n",
    "del models0, models1, models2, models3, models4"
   ]
  },
  {
   "cell_type": "code",
   "execution_count": 15,
   "id": "loaded-gossip",
   "metadata": {
    "execution": {
     "iopub.execute_input": "2021-07-27T05:40:55.246176Z",
     "iopub.status.busy": "2021-07-27T05:40:55.245672Z",
     "iopub.status.idle": "2021-07-27T05:40:57.490244Z",
     "shell.execute_reply": "2021-07-27T05:40:57.489786Z",
     "shell.execute_reply.started": "2021-07-20T05:50:55.690623Z"
    },
    "papermill": {
     "duration": 2.285044,
     "end_time": "2021-07-27T05:40:57.490366",
     "exception": false,
     "start_time": "2021-07-27T05:40:55.205322",
     "status": "completed"
    },
    "tags": []
   },
   "outputs": [
    {
     "data": {
      "text/plain": [
       "<weakproxy at 0x7f74b48aca70 to Device at 0x7f794c0b1890>"
      ]
     },
     "execution_count": 15,
     "metadata": {},
     "output_type": "execute_result"
    }
   ],
   "source": [
    "from numba import cuda\n",
    "import torch\n",
    "cuda.select_device(0)\n",
    "cuda.close()\n",
    "cuda.select_device(0)"
   ]
  },
  {
   "cell_type": "markdown",
   "id": "documented-southwest",
   "metadata": {
    "papermill": {
     "duration": 0.037512,
     "end_time": "2021-07-27T05:40:57.565782",
     "exception": false,
     "start_time": "2021-07-27T05:40:57.528270",
     "status": "completed"
    },
    "tags": []
   },
   "source": [
    "# yolov5 predict"
   ]
  },
  {
   "cell_type": "code",
   "execution_count": 16,
   "id": "gentle-noise",
   "metadata": {
    "execution": {
     "iopub.execute_input": "2021-07-27T05:40:57.645926Z",
     "iopub.status.busy": "2021-07-27T05:40:57.645347Z",
     "iopub.status.idle": "2021-07-27T05:40:57.834654Z",
     "shell.execute_reply": "2021-07-27T05:40:57.833643Z",
     "shell.execute_reply.started": "2021-07-20T05:50:57.843863Z"
    },
    "papermill": {
     "duration": 0.231332,
     "end_time": "2021-07-27T05:40:57.834781",
     "exception": false,
     "start_time": "2021-07-27T05:40:57.603449",
     "status": "completed"
    },
    "tags": []
   },
   "outputs": [],
   "source": [
    "import numpy as np, pandas as pd\n",
    "from glob import glob\n",
    "import shutil, os\n",
    "import matplotlib.pyplot as plt\n",
    "from sklearn.model_selection import GroupKFold\n",
    "from tqdm.notebook import tqdm\n",
    "import seaborn as sns\n",
    "import torch"
   ]
  },
  {
   "cell_type": "code",
   "execution_count": 17,
   "id": "mighty-treasurer",
   "metadata": {
    "execution": {
     "iopub.execute_input": "2021-07-27T05:40:57.923082Z",
     "iopub.status.busy": "2021-07-27T05:40:57.921808Z",
     "iopub.status.idle": "2021-07-27T05:40:57.924577Z",
     "shell.execute_reply": "2021-07-27T05:40:57.924184Z",
     "shell.execute_reply.started": "2021-07-20T05:50:58.027365Z"
    },
    "papermill": {
     "duration": 0.051895,
     "end_time": "2021-07-27T05:40:57.924685",
     "exception": false,
     "start_time": "2021-07-27T05:40:57.872790",
     "status": "completed"
    },
    "tags": []
   },
   "outputs": [],
   "source": [
    "meta = meta[meta['split'] == 'test']\n",
    "if fast_sub:\n",
    "    test_df = fast_df.copy()\n",
    "else:\n",
    "    test_df = pd.read_csv('/kaggle/input/siim-covid19-detection/sample_submission.csv')\n",
    "test_df = df[study_len:].reset_index(drop=True) \n",
    "meta['image_id'] = meta['image_id'] + '_image'\n",
    "meta.columns = ['id', 'dim0', 'dim1', 'split']\n",
    "test_df = pd.merge(test_df, meta, on = 'id', how = 'left')\n"
   ]
  },
  {
   "cell_type": "code",
   "execution_count": 18,
   "id": "satellite-yield",
   "metadata": {
    "execution": {
     "iopub.execute_input": "2021-07-27T05:40:58.026876Z",
     "iopub.status.busy": "2021-07-27T05:40:58.022983Z",
     "iopub.status.idle": "2021-07-27T05:41:16.780292Z",
     "shell.execute_reply": "2021-07-27T05:41:16.779094Z",
     "shell.execute_reply.started": "2021-07-20T05:56:50.47998Z"
    },
    "papermill": {
     "duration": 18.818133,
     "end_time": "2021-07-27T05:41:16.780461",
     "exception": false,
     "start_time": "2021-07-27T05:40:57.962328",
     "status": "completed"
    },
    "tags": []
   },
   "outputs": [
    {
     "name": "stdout",
     "output_type": "stream",
     "text": [
      "fatal: not a git repository (or any parent up to mount point /kaggle)\r\n",
      "Stopping at filesystem boundary (GIT_DISCOVERY_ACROSS_FILESYSTEM not set).\r\n",
      "\u001b[34m\u001b[1mdetect: \u001b[0mweights=['/kaggle/input/5x6best/best.pt'], source=/kaggle/tmp/test/image, imgsz=512, conf_thres=0.001, iou_thres=0.5, max_det=1000, device=, view_img=False, save_txt=True, save_conf=True, save_crop=False, nosave=False, classes=None, agnostic_nms=False, augment=True, visualize=False, update=False, project=runs/detect, name=exp, exist_ok=True, line_thickness=3, hide_labels=False, hide_conf=False, half=False\r\n",
      "image 1/2 /kaggle/tmp/test/image/51759b5579bc_image.png: 512x512 31 0. opacitys, Done. (0.208s)\r\n",
      "image 2/2 /kaggle/tmp/test/image/65761e66de9f_image.png: 512x512 34 0. opacitys, Done. (0.190s)\r\n",
      "Results saved to runs/detect/exp\r\n",
      "2 labels saved to runs/detect/exp/labels\r\n",
      "Done. (0.532s)\r\n"
     ]
    },
    {
     "data": {
      "application/vnd.jupyter.widget-view+json": {
       "model_id": "73646c72a55e4d99a968b011db140201",
       "version_major": 2,
       "version_minor": 0
      },
      "text/plain": [
       "  0%|          | 0/2 [00:00<?, ?it/s]"
      ]
     },
     "metadata": {},
     "output_type": "display_data"
    }
   ],
   "source": [
    "dim = 512 #1024, 256, 'original'\n",
    "test_dir = f'/kaggle/tmp/{split}/image'\n",
    "weights_dir = '/kaggle/input/siim-cov19-yolov5-train/yolov5/runs/train/exp/weights/best.pt'\n",
    "weights_dir = '/kaggle/input/weights-of-yolov5-150-epochs/best.pt'\n",
    "weights_5x6 = '/kaggle/input/5x6best/best.pt'\n",
    "MODEL_PATH = weights_5x6 + \" \" + weights_dir \n",
    "shutil.copytree('/kaggle/input/yolov5-repo/yolov5-master', '/kaggle/working/yolov5')\n",
    "os.chdir('/kaggle/working/yolov5') # install dependencies\n",
    "!git pull\n",
    "\n",
    "import torch\n",
    "#from IPython.display import Image, clear_output  # to display images\n",
    "\n",
    "#clear_output()\n",
    "#print('Setup complete. Using torch %s %s' % (torch.__version__, torch.cuda.get_device_properties(0) if torch.cuda.is_available() else 'CPU'))\n",
    "\n",
    "\n",
    "!python detect.py --weights {weights_5x6}\\\n",
    "--img 512\\\n",
    "--conf 0.001\\\n",
    "--iou 0.5\\\n",
    "--source $test_dir --augment\\\n",
    "--save-txt --save-conf --exist-ok \n",
    "def yolo2voc(image_height, image_width, bboxes):\n",
    "    \"\"\"\n",
    "    yolo => [xmid, ymid, w, h] (normalized)\n",
    "    voc  => [x1, y1, x2, y1]\n",
    "\n",
    "    \"\"\" \n",
    "    bboxes = bboxes.copy().astype(float) # otherwise all value will be 0 as voc_pascal dtype is np.int\n",
    "\n",
    "    bboxes[..., [0, 2]] = bboxes[..., [0, 2]]* image_width\n",
    "    bboxes[..., [1, 3]] = bboxes[..., [1, 3]]* image_height\n",
    "\n",
    "    bboxes[..., [0, 1]] = bboxes[..., [0, 1]] - bboxes[..., [2, 3]]/2\n",
    "    bboxes[..., [2, 3]] = bboxes[..., [0, 1]] + bboxes[..., [2, 3]]\n",
    "\n",
    "    return bboxes\n",
    "image_ids = []\n",
    "PredictionStrings = []\n",
    "\n",
    "for file_path in tqdm(glob('runs/detect/exp/labels/*.txt')):\n",
    "    image_id = file_path.split('/')[-1].split('.')[0]\n",
    "    w, h = test_df.loc[test_df.id==image_id,['dim1', 'dim0']].values[0]\n",
    "    f = open(file_path, 'r')\n",
    "    data = np.array(f.read().replace('\\n', ' ').strip().split(' ')).astype(np.float32).reshape(-1, 6)\n",
    "    data = data[:, [0, 5, 1, 2, 3, 4]]\n",
    "    bboxes = list(np.round(np.concatenate((data[:, :2], np.round(yolo2voc(h, w, data[:, 2:]))), axis =1).reshape(-1), 12).astype(str))\n",
    "    for idx in range(len(bboxes)):\n",
    "        bboxes[idx] = str(int(float(bboxes[idx]))) if idx%6!=1 else bboxes[idx]\n",
    "    image_ids.append(image_id)\n",
    "    PredictionStrings.append(' '.join(bboxes))\n",
    "\n",
    "\n",
    "pred_df = pd.DataFrame({'id':image_ids,\n",
    "                        'PredictionString':PredictionStrings})"
   ]
  },
  {
   "cell_type": "code",
   "execution_count": 19,
   "id": "lucky-caution",
   "metadata": {
    "execution": {
     "iopub.execute_input": "2021-07-27T05:41:16.891631Z",
     "iopub.status.busy": "2021-07-27T05:41:16.891036Z",
     "iopub.status.idle": "2021-07-27T05:41:17.037108Z",
     "shell.execute_reply": "2021-07-27T05:41:17.036258Z",
     "shell.execute_reply.started": "2021-07-20T05:57:21.466269Z"
    },
    "papermill": {
     "duration": 0.213158,
     "end_time": "2021-07-27T05:41:17.037242",
     "exception": false,
     "start_time": "2021-07-27T05:41:16.824084",
     "status": "completed"
    },
    "tags": []
   },
   "outputs": [],
   "source": [
    "test_df = test_df.drop(['PredictionString'], axis=1)\n",
    "sub_df = pd.merge(test_df, pred_df, on = 'id', how = 'left').fillna(\"none 1 0 0 1 1\")\n",
    "sub_df = sub_df[['id', 'PredictionString']]\n",
    "for i in range(sub_df.shape[0]):\n",
    "    if sub_df.loc[i,'PredictionString'] == \"none 1 0 0 1 1\":\n",
    "        continue\n",
    "    sub_df_split = sub_df.loc[i,'PredictionString'].split()\n",
    "    sub_df_list = []\n",
    "    for j in range(int(len(sub_df_split) / 6)):\n",
    "        sub_df_list.append('opacity')\n",
    "        sub_df_list.append(sub_df_split[6 * j + 1])\n",
    "        sub_df_list.append(sub_df_split[6 * j + 2])\n",
    "        sub_df_list.append(sub_df_split[6 * j + 3])\n",
    "        sub_df_list.append(sub_df_split[6 * j + 4])\n",
    "        sub_df_list.append(sub_df_split[6 * j + 5])\n",
    "    sub_df.loc[i,'PredictionString'] = ' '.join(sub_df_list)\n",
    "sub_df['none'] = df_2class['none'] \n",
    "for i in range(sub_df.shape[0]):\n",
    "    if sub_df.loc[i,'PredictionString'] != 'none 1 0 0 1 1':\n",
    "        sub_df.loc[i,'PredictionString'] = sub_df.loc[i,'PredictionString'] + ' none ' + str(sub_df.loc[i,'none']) + ' 0 0 1 1'\n",
    "sub_df = sub_df[['id', 'PredictionString']]   \n",
    "df_study = df_study[:study_len]\n",
    "df_study = df_study.append(sub_df).reset_index(drop=True)\n",
    "df_study.to_csv('/kaggle/working/submission.csv',index = False)  \n",
    "shutil.rmtree('/kaggle/working/yolov5')"
   ]
  },
  {
   "cell_type": "code",
   "execution_count": null,
   "id": "premium-category",
   "metadata": {
    "papermill": {
     "duration": 0.044194,
     "end_time": "2021-07-27T05:41:17.125642",
     "exception": false,
     "start_time": "2021-07-27T05:41:17.081448",
     "status": "completed"
    },
    "tags": []
   },
   "outputs": [],
   "source": []
  }
 ],
 "metadata": {
  "kernelspec": {
   "display_name": "Python 3",
   "language": "python",
   "name": "python3"
  },
  "language_info": {
   "codemirror_mode": {
    "name": "ipython",
    "version": 3
   },
   "file_extension": ".py",
   "mimetype": "text/x-python",
   "name": "python",
   "nbconvert_exporter": "python",
   "pygments_lexer": "ipython3",
   "version": "3.7.10"
  },
  "papermill": {
   "default_parameters": {},
   "duration": 402.731234,
   "end_time": "2021-07-27T05:41:20.473187",
   "environment_variables": {},
   "exception": null,
   "input_path": "__notebook__.ipynb",
   "output_path": "__notebook__.ipynb",
   "parameters": {},
   "start_time": "2021-07-27T05:34:37.741953",
   "version": "2.3.3"
  },
  "widgets": {
   "application/vnd.jupyter.widget-state+json": {
    "state": {
     "066d244c404f47e9a43852de69fe36d8": {
      "model_module": "@jupyter-widgets/base",
      "model_module_version": "1.2.0",
      "model_name": "LayoutModel",
      "state": {
       "_model_module": "@jupyter-widgets/base",
       "_model_module_version": "1.2.0",
       "_model_name": "LayoutModel",
       "_view_count": null,
       "_view_module": "@jupyter-widgets/base",
       "_view_module_version": "1.2.0",
       "_view_name": "LayoutView",
       "align_content": null,
       "align_items": null,
       "align_self": null,
       "border": null,
       "bottom": null,
       "display": null,
       "flex": null,
       "flex_flow": null,
       "grid_area": null,
       "grid_auto_columns": null,
       "grid_auto_flow": null,
       "grid_auto_rows": null,
       "grid_column": null,
       "grid_gap": null,
       "grid_row": null,
       "grid_template_areas": null,
       "grid_template_columns": null,
       "grid_template_rows": null,
       "height": null,
       "justify_content": null,
       "justify_items": null,
       "left": null,
       "margin": null,
       "max_height": null,
       "max_width": null,
       "min_height": null,
       "min_width": null,
       "object_fit": null,
       "object_position": null,
       "order": null,
       "overflow": null,
       "overflow_x": null,
       "overflow_y": null,
       "padding": null,
       "right": null,
       "top": null,
       "visibility": null,
       "width": null
      }
     },
     "11ea4ff82e3e4e26b5ea10f86a88a0b5": {
      "model_module": "@jupyter-widgets/controls",
      "model_module_version": "1.5.0",
      "model_name": "HTMLModel",
      "state": {
       "_dom_classes": [],
       "_model_module": "@jupyter-widgets/controls",
       "_model_module_version": "1.5.0",
       "_model_name": "HTMLModel",
       "_view_count": null,
       "_view_module": "@jupyter-widgets/controls",
       "_view_module_version": "1.5.0",
       "_view_name": "HTMLView",
       "description": "",
       "description_tooltip": null,
       "layout": "IPY_MODEL_8b95f09090294ede8de1eb4ce2c811e8",
       "placeholder": "​",
       "style": "IPY_MODEL_ccde200994a54cafb1c4f5bfcce1c42a",
       "value": " 2/2 [00:00&lt;00:00, 50.22it/s]"
      }
     },
     "3e49cd2fb960462184b7a4d533884898": {
      "model_module": "@jupyter-widgets/controls",
      "model_module_version": "1.5.0",
      "model_name": "HTMLModel",
      "state": {
       "_dom_classes": [],
       "_model_module": "@jupyter-widgets/controls",
       "_model_module_version": "1.5.0",
       "_model_name": "HTMLModel",
       "_view_count": null,
       "_view_module": "@jupyter-widgets/controls",
       "_view_module_version": "1.5.0",
       "_view_name": "HTMLView",
       "description": "",
       "description_tooltip": null,
       "layout": "IPY_MODEL_066d244c404f47e9a43852de69fe36d8",
       "placeholder": "​",
       "style": "IPY_MODEL_ccec32d3bb1e4e2384f7f1d1975df963",
       "value": "100%"
      }
     },
     "6f1b7c31d5de4b5eae0aa65c937b4fa0": {
      "model_module": "@jupyter-widgets/base",
      "model_module_version": "1.2.0",
      "model_name": "LayoutModel",
      "state": {
       "_model_module": "@jupyter-widgets/base",
       "_model_module_version": "1.2.0",
       "_model_name": "LayoutModel",
       "_view_count": null,
       "_view_module": "@jupyter-widgets/base",
       "_view_module_version": "1.2.0",
       "_view_name": "LayoutView",
       "align_content": null,
       "align_items": null,
       "align_self": null,
       "border": null,
       "bottom": null,
       "display": null,
       "flex": null,
       "flex_flow": null,
       "grid_area": null,
       "grid_auto_columns": null,
       "grid_auto_flow": null,
       "grid_auto_rows": null,
       "grid_column": null,
       "grid_gap": null,
       "grid_row": null,
       "grid_template_areas": null,
       "grid_template_columns": null,
       "grid_template_rows": null,
       "height": null,
       "justify_content": null,
       "justify_items": null,
       "left": null,
       "margin": null,
       "max_height": null,
       "max_width": null,
       "min_height": null,
       "min_width": null,
       "object_fit": null,
       "object_position": null,
       "order": null,
       "overflow": null,
       "overflow_x": null,
       "overflow_y": null,
       "padding": null,
       "right": null,
       "top": null,
       "visibility": null,
       "width": null
      }
     },
     "73646c72a55e4d99a968b011db140201": {
      "model_module": "@jupyter-widgets/controls",
      "model_module_version": "1.5.0",
      "model_name": "HBoxModel",
      "state": {
       "_dom_classes": [],
       "_model_module": "@jupyter-widgets/controls",
       "_model_module_version": "1.5.0",
       "_model_name": "HBoxModel",
       "_view_count": null,
       "_view_module": "@jupyter-widgets/controls",
       "_view_module_version": "1.5.0",
       "_view_name": "HBoxView",
       "box_style": "",
       "children": [
        "IPY_MODEL_3e49cd2fb960462184b7a4d533884898",
        "IPY_MODEL_a276e5eca7f74d6d91b0564561ff146f",
        "IPY_MODEL_11ea4ff82e3e4e26b5ea10f86a88a0b5"
       ],
       "layout": "IPY_MODEL_956834ab3e374ff3b46eb9d54372ef59"
      }
     },
     "8b95f09090294ede8de1eb4ce2c811e8": {
      "model_module": "@jupyter-widgets/base",
      "model_module_version": "1.2.0",
      "model_name": "LayoutModel",
      "state": {
       "_model_module": "@jupyter-widgets/base",
       "_model_module_version": "1.2.0",
       "_model_name": "LayoutModel",
       "_view_count": null,
       "_view_module": "@jupyter-widgets/base",
       "_view_module_version": "1.2.0",
       "_view_name": "LayoutView",
       "align_content": null,
       "align_items": null,
       "align_self": null,
       "border": null,
       "bottom": null,
       "display": null,
       "flex": null,
       "flex_flow": null,
       "grid_area": null,
       "grid_auto_columns": null,
       "grid_auto_flow": null,
       "grid_auto_rows": null,
       "grid_column": null,
       "grid_gap": null,
       "grid_row": null,
       "grid_template_areas": null,
       "grid_template_columns": null,
       "grid_template_rows": null,
       "height": null,
       "justify_content": null,
       "justify_items": null,
       "left": null,
       "margin": null,
       "max_height": null,
       "max_width": null,
       "min_height": null,
       "min_width": null,
       "object_fit": null,
       "object_position": null,
       "order": null,
       "overflow": null,
       "overflow_x": null,
       "overflow_y": null,
       "padding": null,
       "right": null,
       "top": null,
       "visibility": null,
       "width": null
      }
     },
     "956834ab3e374ff3b46eb9d54372ef59": {
      "model_module": "@jupyter-widgets/base",
      "model_module_version": "1.2.0",
      "model_name": "LayoutModel",
      "state": {
       "_model_module": "@jupyter-widgets/base",
       "_model_module_version": "1.2.0",
       "_model_name": "LayoutModel",
       "_view_count": null,
       "_view_module": "@jupyter-widgets/base",
       "_view_module_version": "1.2.0",
       "_view_name": "LayoutView",
       "align_content": null,
       "align_items": null,
       "align_self": null,
       "border": null,
       "bottom": null,
       "display": null,
       "flex": null,
       "flex_flow": null,
       "grid_area": null,
       "grid_auto_columns": null,
       "grid_auto_flow": null,
       "grid_auto_rows": null,
       "grid_column": null,
       "grid_gap": null,
       "grid_row": null,
       "grid_template_areas": null,
       "grid_template_columns": null,
       "grid_template_rows": null,
       "height": null,
       "justify_content": null,
       "justify_items": null,
       "left": null,
       "margin": null,
       "max_height": null,
       "max_width": null,
       "min_height": null,
       "min_width": null,
       "object_fit": null,
       "object_position": null,
       "order": null,
       "overflow": null,
       "overflow_x": null,
       "overflow_y": null,
       "padding": null,
       "right": null,
       "top": null,
       "visibility": null,
       "width": null
      }
     },
     "a276e5eca7f74d6d91b0564561ff146f": {
      "model_module": "@jupyter-widgets/controls",
      "model_module_version": "1.5.0",
      "model_name": "FloatProgressModel",
      "state": {
       "_dom_classes": [],
       "_model_module": "@jupyter-widgets/controls",
       "_model_module_version": "1.5.0",
       "_model_name": "FloatProgressModel",
       "_view_count": null,
       "_view_module": "@jupyter-widgets/controls",
       "_view_module_version": "1.5.0",
       "_view_name": "ProgressView",
       "bar_style": "success",
       "description": "",
       "description_tooltip": null,
       "layout": "IPY_MODEL_6f1b7c31d5de4b5eae0aa65c937b4fa0",
       "max": 2.0,
       "min": 0.0,
       "orientation": "horizontal",
       "style": "IPY_MODEL_b1cea948d4f24209a3a8dbe5180678cb",
       "value": 2.0
      }
     },
     "b1cea948d4f24209a3a8dbe5180678cb": {
      "model_module": "@jupyter-widgets/controls",
      "model_module_version": "1.5.0",
      "model_name": "ProgressStyleModel",
      "state": {
       "_model_module": "@jupyter-widgets/controls",
       "_model_module_version": "1.5.0",
       "_model_name": "ProgressStyleModel",
       "_view_count": null,
       "_view_module": "@jupyter-widgets/base",
       "_view_module_version": "1.2.0",
       "_view_name": "StyleView",
       "bar_color": null,
       "description_width": ""
      }
     },
     "ccde200994a54cafb1c4f5bfcce1c42a": {
      "model_module": "@jupyter-widgets/controls",
      "model_module_version": "1.5.0",
      "model_name": "DescriptionStyleModel",
      "state": {
       "_model_module": "@jupyter-widgets/controls",
       "_model_module_version": "1.5.0",
       "_model_name": "DescriptionStyleModel",
       "_view_count": null,
       "_view_module": "@jupyter-widgets/base",
       "_view_module_version": "1.2.0",
       "_view_name": "StyleView",
       "description_width": ""
      }
     },
     "ccec32d3bb1e4e2384f7f1d1975df963": {
      "model_module": "@jupyter-widgets/controls",
      "model_module_version": "1.5.0",
      "model_name": "DescriptionStyleModel",
      "state": {
       "_model_module": "@jupyter-widgets/controls",
       "_model_module_version": "1.5.0",
       "_model_name": "DescriptionStyleModel",
       "_view_count": null,
       "_view_module": "@jupyter-widgets/base",
       "_view_module_version": "1.2.0",
       "_view_name": "StyleView",
       "description_width": ""
      }
     }
    },
    "version_major": 2,
    "version_minor": 0
   }
  }
 },
 "nbformat": 4,
 "nbformat_minor": 5
}
