{
 "cells": [
  {
   "cell_type": "code",
   "execution_count": 6,
   "metadata": {},
   "outputs": [
    {
     "name": "stdout",
     "output_type": "stream",
     "text": [
      "1.8.1+cu111\n"
     ]
    },
    {
     "data": {
      "text/plain": [
       "<torch._C.Generator at 0x7f339e083970>"
      ]
     },
     "execution_count": 6,
     "metadata": {},
     "output_type": "execute_result"
    }
   ],
   "source": [
    "import numpy as np\n",
    "import matplotlib.pyplot as plt\n",
    "import pandas as pd\n",
    "import cv2\n",
    "import os\n",
    "import torch\n",
    "import torch.nn as nn\n",
    "import torch.optim as opt\n",
    "torch.set_printoptions(linewidth=120)\n",
    "import torch.nn.functional as F\n",
    "import torchvision\n",
    "import torchvision.transforms as transforms\n",
    "from torch.utils.tensorboard import SummaryWriter\n",
    "from tqdm.notebook import tqdm\n",
    "import torch.nn.functional as F\n",
    "from focal import FocalLoss\n",
    "from volo import volo_d1\n",
    "from sklearn.metrics import roc_auc_score\n",
    "import torchvision.transforms as T\n",
    "from src.res import wide_resnet101_2\n",
    "from src.dense import densenet121\n",
    "from src.inception import inception_v3\n",
    "print(torch.__version__)\n",
    "torch.manual_seed(0)"
   ]
  },
  {
   "cell_type": "code",
   "execution_count": 16,
   "metadata": {},
   "outputs": [
    {
     "data": {
      "text/plain": [
       "<All keys matched successfully>"
      ]
     },
     "execution_count": 16,
     "metadata": {},
     "output_type": "execute_result"
    }
   ],
   "source": [
    "class DenseNet121(nn.Module):\n",
    "    \"\"\"Model modified.\n",
    "    The architecture of our model is the same as standard DenseNet121\n",
    "    except the classifier layer which has an additional sigmoid function.\n",
    "    \"\"\"\n",
    "    def __init__(self, out_size):\n",
    "        super(DenseNet121, self).__init__()\n",
    "        self.densenet121 = densenet121(pretrained=False, **{'drop_rate' : 0.3})\n",
    "        num_ftrs = self.densenet121.classifier.in_features\n",
    "        self.densenet121.classifier = nn.Sequential(\n",
    "            nn.Linear(num_ftrs, out_size),\n",
    "            nn.Sigmoid()\n",
    "        )\n",
    "\n",
    "    def forward(self, x):\n",
    "        x = self.densenet121(x)\n",
    "        return x\n",
    "\n",
    "model = DenseNet121(4)\n",
    "model.load_state_dict(torch.load('./model_weights/dense_best.pt'))"
   ]
  },
  {
   "cell_type": "code",
   "execution_count": 46,
   "metadata": {},
   "outputs": [],
   "source": [
    "training = os.listdir('../train/')\n",
    "study_label = pd.read_csv('../archive/train_study_level.csv')\n",
    "image_label = pd.read_csv('../archive/train_image_level.csv')\n",
    "paths = []\n",
    "labels = []\n",
    "dct = pd.read_csv('train.csv', index_col=0)\n",
    "dct['image'] = dct.image.apply(lambda x: x[:-4])\n",
    "dct = dct.set_index('study').to_dict()['image']"
   ]
  },
  {
   "cell_type": "code",
   "execution_count": 47,
   "metadata": {},
   "outputs": [],
   "source": [
    "for index, row in study_label.iterrows():\n",
    "    name = dct[row['id'].replace('_study', '')] + '.png'\n",
    "    if name in training:\n",
    "        paths.append('../train/' + name)\n",
    "        if row['Negative for Pneumonia'] == 1:\n",
    "            labels.append(0)\n",
    "        elif row['Typical Appearance'] == 1:\n",
    "            labels.append(1)\n",
    "        elif row['Indeterminate Appearance'] == 1:\n",
    "            labels.append(2)\n",
    "        elif row['Atypical Appearance'] == 1:\n",
    "            labels.append(3)\n",
    "    else:\n",
    "        print(name)"
   ]
  },
  {
   "cell_type": "code",
   "execution_count": 48,
   "metadata": {},
   "outputs": [
    {
     "data": {
      "text/plain": [
       "'\\nclass Net(nn.Module):\\n    def __init__(self, out_size, model):\\n        super(Net, self).__init__()\\n        if model == \\'dense\\':\\n            self.model = torchvision.models.densenet121(pretrained=True, **{\\'drop_rate\\' : 0.3})\\n            num_ftrs = self.model.classifier.in_features\\n            self.model.classifier = nn.Sequential(\\n                nn.Linear(num_ftrs, out_size)\\n            )\\n            \\n        elif model == \\'res\\':\\n            self.model = torchvision.models.wide_resnet101_2(pretrained=True)\\n            num_ftrs = self.model.fc.in_features\\n            self.model.fc = nn.Sequential(\\n                nn.Linear(num_ftrs, out_size)\\n            )\\n        elif model == \\'inception\\':\\n            self.model = torchvision.models.inception_v3(pretrained=True, **{\"aux_logits\": False})\\n            num_ftrs = self.model.fc.in_features\\n            self.model.fc = nn.Sequential(\\n                nn.Linear(num_ftrs, out_size)\\n            )\\n    def forward(self, x):\\n        x = self.model(x)\\n        return x\\n'"
      ]
     },
     "execution_count": 48,
     "metadata": {},
     "output_type": "execute_result"
    }
   ],
   "source": [
    "'''\n",
    "class Net(nn.Module):\n",
    "    def __init__(self, out_size, model):\n",
    "        super(Net, self).__init__()\n",
    "        if model == 'dense':\n",
    "            self.model = torchvision.models.densenet121(pretrained=True, **{'drop_rate' : 0.3})\n",
    "            num_ftrs = self.model.classifier.in_features\n",
    "            self.model.classifier = nn.Sequential(\n",
    "                nn.Linear(num_ftrs, out_size)\n",
    "            )\n",
    "            \n",
    "        elif model == 'res':\n",
    "            self.model = torchvision.models.wide_resnet101_2(pretrained=True)\n",
    "            num_ftrs = self.model.fc.in_features\n",
    "            self.model.fc = nn.Sequential(\n",
    "                nn.Linear(num_ftrs, out_size)\n",
    "            )\n",
    "        elif model == 'inception':\n",
    "            self.model = torchvision.models.inception_v3(pretrained=True, **{\"aux_logits\": False})\n",
    "            num_ftrs = self.model.fc.in_features\n",
    "            self.model.fc = nn.Sequential(\n",
    "                nn.Linear(num_ftrs, out_size)\n",
    "            )\n",
    "    def forward(self, x):\n",
    "        x = self.model(x)\n",
    "        return x\n",
    "'''"
   ]
  },
  {
   "cell_type": "code",
   "execution_count": 49,
   "metadata": {},
   "outputs": [],
   "source": [
    "class classification(nn.Module):\n",
    "    def __init__(self, paths, labels, size=(512,512)):\n",
    "        self.paths = paths\n",
    "        self.labels = labels\n",
    "        self.example = []\n",
    "        self.size =size\n",
    "    \n",
    "    def __getitem__(self, idx):\n",
    "            path = self.paths[idx]\n",
    "            img = cv2.imread(path)[:, :, 0]\n",
    "            img = (img - np.mean(img))/np.std(img)\n",
    "            img = cv2.resize(img, self.size)\n",
    "            x = torch.from_numpy(np.array(img)).view((1, self.size[0], self.size[1]))\n",
    "            x = x.float()\n",
    "            y = self.labels[idx]\n",
    "            y = torch.tensor(y)\n",
    "            return x, y\n",
    "        \n",
    "    def __len__(self):\n",
    "        return len(self.paths)\n",
    "    \n",
    "    def get(self):\n",
    "        return self.example"
   ]
  },
  {
   "cell_type": "code",
   "execution_count": 52,
   "metadata": {},
   "outputs": [],
   "source": [
    "def roc_auc_compute_fn(y_preds: torch.Tensor, y_targets: torch.Tensor) -> float:\n",
    "\n",
    "    y_true = y_targets.cpu().numpy()\n",
    "    y_pred = y_preds.cpu().numpy()\n",
    "    print(y_true.shape, y_pred.shape)\n",
    "    return roc_auc_score(y_true, y_pred, average='weighted', multi_class='ovo')\n",
    "\n",
    "def one_hot(labels: torch.Tensor, num_classes: int, dtype: torch.dtype = torch.float, dim: int = 1) -> torch.Tensor:\n",
    "    # if `dim` is bigger, add singleton dim at the end\n",
    "    if labels.ndim < dim + 1:\n",
    "        shape = list(labels.shape) + [1] * (dim + 1 - len(labels.shape))\n",
    "        labels = torch.reshape(labels, shape)\n",
    "\n",
    "    sh = list(labels.shape)\n",
    "\n",
    "    if sh[dim] != 1:\n",
    "        raise AssertionError(\"labels should have a channel with length equal to one.\")\n",
    "\n",
    "    sh[dim] = num_classes\n",
    "\n",
    "    o = torch.zeros(size=sh, dtype=dtype, device=labels.device)\n",
    "    labels = o.scatter_(dim=dim, index=labels.long(), value=1)\n",
    "\n",
    "    return labels"
   ]
  },
  {
   "cell_type": "code",
   "execution_count": 53,
   "metadata": {},
   "outputs": [],
   "source": [
    "device = torch.device(\"cuda:3\" if torch.cuda.is_available() else \"cpu\")"
   ]
  },
  {
   "cell_type": "code",
   "execution_count": 54,
   "metadata": {},
   "outputs": [
    {
     "name": "stdout",
     "output_type": "stream",
     "text": [
      "6054\n"
     ]
    }
   ],
   "source": [
    "dataset = classification(paths, labels, size=(512, 512))\n",
    "print(len(dataset))\n",
    "train_loader = torch.utils.data.DataLoader(dataset=dataset,\n",
    "                                            batch_size=16,\n",
    "                                            shuffle=False)"
   ]
  },
  {
   "cell_type": "code",
   "execution_count": 55,
   "metadata": {},
   "outputs": [
    {
     "data": {
      "application/vnd.jupyter.widget-view+json": {
       "model_id": "f8779ecfb106469db53e3d3a9270fcd0",
       "version_major": 2,
       "version_minor": 0
      },
      "text/plain": [
       "HBox(children=(HTML(value=''), FloatProgress(value=0.0, max=379.0), HTML(value='')))"
      ]
     },
     "metadata": {},
     "output_type": "display_data"
    },
    {
     "name": "stdout",
     "output_type": "stream",
     "text": [
      "\n"
     ]
    }
   ],
   "source": [
    "model.to(device)\n",
    "model.eval()    \n",
    "\n",
    "test_output = []\n",
    "test_true = []\n",
    "    \n",
    "for i, (data,labels) in tqdm(enumerate(train_loader),\n",
    "                                       total = len(train_loader)):\n",
    "    data, labels = data.to(device),labels.to(device)\n",
    "\n",
    "    with torch.no_grad():\n",
    "        outputs = model(data)\n",
    "\n",
    "    outputs = torch.nn.functional.softmax(outputs, 1)\n",
    "    _, predicted = torch.max(outputs.data, 1)\n",
    "    test_output.append(predicted.detach().cpu().numpy())\n",
    "    test_true.append(labels.detach().cpu().numpy())\n",
    "    \n",
    "\n",
    "test_output = np.concatenate(test_output)\n",
    "test_true = np.concatenate(test_true)"
   ]
  },
  {
   "cell_type": "code",
   "execution_count": 56,
   "metadata": {},
   "outputs": [
    {
     "data": {
      "text/plain": [
       "array([[0.67883996, 0.10741139, 0.14070892, 0.07303974],\n",
       "       [0.08797269, 0.66911765, 0.16780462, 0.07510504],\n",
       "       [0.20052083, 0.27864583, 0.38541667, 0.13541667],\n",
       "       [0.        , 0.        , 0.        , 0.        ]])"
      ]
     },
     "execution_count": 56,
     "metadata": {},
     "output_type": "execute_result"
    }
   ],
   "source": [
    "from sklearn.metrics import confusion_matrix\n",
    "confusion_matrix(test_output, test_true, normalize='true')"
   ]
  },
  {
   "cell_type": "code",
   "execution_count": null,
   "metadata": {},
   "outputs": [],
   "source": []
  }
 ],
 "metadata": {
  "kernelspec": {
   "display_name": "xinrui",
   "language": "python",
   "name": "xinrui"
  },
  "language_info": {
   "codemirror_mode": {
    "name": "ipython",
    "version": 3
   },
   "file_extension": ".py",
   "mimetype": "text/x-python",
   "name": "python",
   "nbconvert_exporter": "python",
   "pygments_lexer": "ipython3",
   "version": "3.8.5"
  }
 },
 "nbformat": 4,
 "nbformat_minor": 4
}
